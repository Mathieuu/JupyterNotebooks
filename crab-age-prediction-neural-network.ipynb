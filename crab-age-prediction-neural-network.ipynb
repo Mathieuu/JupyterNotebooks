{
 "cells": [
  {
   "cell_type": "code",
   "execution_count": 1,
   "id": "4d808a0f-740f-4509-94fa-9935a79f7bea",
   "metadata": {},
   "outputs": [],
   "source": [
    "#hide\n",
    "! [ -e /content ] && pip install -Uqq fastbook kaggle waterfallcharts treeinterpreter dtreeviz\n",
    "import fastbook\n",
    "fastbook.setup_book()\n",
    "\n",
    "#hide\n",
    "from fastbook import *\n",
    "from pandas.api.types import is_string_dtype, is_numeric_dtype, is_categorical_dtype\n",
    "from fastai.tabular.all import *\n",
    "from fastai.tabular.data import RandomSplitter\n",
    "from sklearn.ensemble import RandomForestClassifier\n",
    "from sklearn.tree import DecisionTreeClassifier, DecisionTreeRegressor\n",
    "from dtreeviz.trees import *\n",
    "from IPython.display import Image, display_svg, SVG\n",
    "import dtreeviz\n",
    "from sklearn.metrics import mean_absolute_error\n",
    "from fastai.metrics import mae as fast_mae\n",
    "from sklearn.model_selection import train_test_split\n",
    "\n",
    "\n",
    "import matplotlib.pyplot as plt\n",
    "import seaborn as sns\n",
    "sns.set(style=\"darkgrid\")\n",
    "\n",
    "from sklearn.ensemble import RandomForestClassifier\n",
    "from sklearn.preprocessing import OneHotEncoder, LabelEncoder, StandardScaler\n",
    "from sklearn.metrics import roc_curve, auc\n",
    "from sklearn.model_selection import StratifiedKFold\n",
    "\n",
    "import string\n",
    "import warnings\n",
    "warnings.filterwarnings('ignore')\n",
    "\n",
    "SEED = 42"
   ]
  },
  {
   "cell_type": "code",
   "execution_count": 2,
   "id": "c5753b1f-de8d-4e07-8cdf-dfd2219ff5df",
   "metadata": {},
   "outputs": [],
   "source": [
    "creds = '{\"username\":\"mathieuu\",\"key\":\"REMOVED\"}'\n",
    "\n",
    "cred_path = Path('~/.kaggle/kaggle.json').expanduser()\n",
    "if not cred_path.exists():\n",
    "    cred_path.parent.mkdir(exist_ok=True)\n",
    "    cred_path.write_text(creds)\n",
    "    cred_path.chmod(0o600)"
   ]
  },
  {
   "cell_type": "code",
   "execution_count": 3,
   "id": "3e56b56a-fba3-4a50-9b01-3159ce291064",
   "metadata": {},
   "outputs": [
    {
     "data": {
      "text/plain": [
       "Path('/root/.fastai/archive/playground-series-s3e16')"
      ]
     },
     "execution_count": 3,
     "metadata": {},
     "output_type": "execute_result"
    }
   ],
   "source": [
    "comp = 'playground-series-s3e16'\n",
    "path = URLs.path(comp)\n",
    "path"
   ]
  },
  {
   "cell_type": "code",
   "execution_count": 4,
   "id": "8abb1c9c-d259-4699-bda2-126b858101c1",
   "metadata": {},
   "outputs": [],
   "source": [
    "#hide\n",
    "Path.BASE_PATH = path"
   ]
  },
  {
   "cell_type": "code",
   "execution_count": 5,
   "id": "c938c12a-0fd3-4f8c-b953-34781e23ee60",
   "metadata": {},
   "outputs": [
    {
     "data": {
      "text/plain": [
       "(#3) [Path('test.csv'),Path('train.csv'),Path('sample_submission.csv')]"
      ]
     },
     "execution_count": 5,
     "metadata": {},
     "output_type": "execute_result"
    }
   ],
   "source": [
    "from kaggle import api\n",
    "\n",
    "if not path.exists():\n",
    "    path.mkdir(parents=true)\n",
    "    api.competition_download_cli(comp, path=path)\n",
    "    shutil.unpack_archive(str(path/f'{comp}.zip'), str(path))\n",
    "\n",
    "path.ls(file_type='text')"
   ]
  },
  {
   "cell_type": "code",
   "execution_count": 6,
   "id": "44be68bf-b677-4c19-b370-63a80976870d",
   "metadata": {},
   "outputs": [],
   "source": [
    "# Feature engineering comes from Kaggle\n",
    "def transform_dataframe(df):\n",
    "    # Ratio Features\n",
    "    df['Total_Weight'] = df['Weight'] + df['Shucked Weight'] + df['Viscera Weight'] + df['Shell Weight']\n",
    "    df['Viscera_Ratio'] = df['Viscera Weight'] / df['Total_Weight']\n",
    "    df['Shell_Ratio'] = df['Shell Weight'] / df['Total_Weight']\n",
    "    df['Shell_to_Body_Ratio'] = df['Shell Weight'] / (df['Total_Weight'] + df['Shell Weight'])\n",
    "    df['Meat_Yield'] = df['Shucked Weight'] / (df['Total_Weight'] + df['Shell Weight'])\n",
    "    df['Length_to_Diameter_Ratio'] = df['Length'] / df['Diameter']\n",
    "    df['Weight_to_VisceraWeight_Ratio'] = df['Total_Weight'] / df['Viscera Weight']\n",
    "    df['Weight_to_ShellWeight_Ratio'] = df['Total_Weight'] / df['Shell Weight']\n",
    "    df['Weight_to_ShuckedWeight_Ratio'] = df['Total_Weight'] / df['Shucked Weight']\n",
    "\n",
    "    # Geometric Features\n",
    "    df['Surface_Area'] = 2 * (df['Length'] * df['Diameter'] + df['Length'] * df['Height'] + df['Diameter'] * df['Height'])\n",
    "    df['Volume'] = df['Length'] * df['Diameter'] * df['Height']\n",
    "    df['Density'] = np.where(df['Volume'] != 0, df['Total_Weight'] / df['Volume'], 0)\n",
    "    df['Pseudo_BMI'] = np.where(df['Height'] != 0, df['Total_Weight'] / (df['Height'] ** 2), 0)\n",
    "\n",
    "    # Polynomial Features\n",
    "    df['Length^2'] = df['Length'] ** 2\n",
    "    df['Diameter^2'] = df['Diameter'] ** 2\n",
    "\n",
    "    # Logarithmic Transformations\n",
    "    df['Log_Weight'] = np.log(df['Total_Weight'] + 1)\n",
    "\n",
    "    # Binned Features\n",
    "    df['Length_Bins'] = pd.qcut(df['Length'], 4, labels=False)\n",
    "\n",
    "    # Derived Weight Features\n",
    "    df['Weight_wo_Viscera'] = df['Shucked Weight'] - df['Viscera Weight']\n",
    "    df['Body_Condition_Index'] = np.sqrt(df['Length'] * df['Total_Weight'] * df['Shucked Weight'])\n",
    "\n",
    "    return df"
   ]
  },
  {
   "cell_type": "code",
   "execution_count": 7,
   "id": "4d61deea-75e9-43a4-97fc-8d305c10ab01",
   "metadata": {},
   "outputs": [
    {
     "data": {
      "text/html": [
       "<div>\n",
       "<style scoped>\n",
       "    .dataframe tbody tr th:only-of-type {\n",
       "        vertical-align: middle;\n",
       "    }\n",
       "\n",
       "    .dataframe tbody tr th {\n",
       "        vertical-align: top;\n",
       "    }\n",
       "\n",
       "    .dataframe thead th {\n",
       "        text-align: right;\n",
       "    }\n",
       "</style>\n",
       "<table border=\"1\" class=\"dataframe\">\n",
       "  <thead>\n",
       "    <tr style=\"text-align: right;\">\n",
       "      <th></th>\n",
       "      <th>id</th>\n",
       "      <th>Sex</th>\n",
       "      <th>Length</th>\n",
       "      <th>Diameter</th>\n",
       "      <th>Height</th>\n",
       "      <th>Weight</th>\n",
       "      <th>Shucked Weight</th>\n",
       "      <th>Viscera Weight</th>\n",
       "      <th>Shell Weight</th>\n",
       "      <th>Age</th>\n",
       "      <th>Total_Weight</th>\n",
       "      <th>Viscera_Ratio</th>\n",
       "      <th>Shell_Ratio</th>\n",
       "      <th>Shell_to_Body_Ratio</th>\n",
       "      <th>Meat_Yield</th>\n",
       "      <th>Length_to_Diameter_Ratio</th>\n",
       "      <th>Weight_to_VisceraWeight_Ratio</th>\n",
       "      <th>Weight_to_ShellWeight_Ratio</th>\n",
       "      <th>Weight_to_ShuckedWeight_Ratio</th>\n",
       "      <th>Surface_Area</th>\n",
       "      <th>Volume</th>\n",
       "      <th>Density</th>\n",
       "      <th>Pseudo_BMI</th>\n",
       "      <th>Length^2</th>\n",
       "      <th>Diameter^2</th>\n",
       "      <th>Log_Weight</th>\n",
       "      <th>Length_Bins</th>\n",
       "      <th>Weight_wo_Viscera</th>\n",
       "      <th>Body_Condition_Index</th>\n",
       "    </tr>\n",
       "  </thead>\n",
       "  <tbody>\n",
       "    <tr>\n",
       "      <th>0</th>\n",
       "      <td>0</td>\n",
       "      <td>I</td>\n",
       "      <td>1.5250</td>\n",
       "      <td>1.1750</td>\n",
       "      <td>0.3750</td>\n",
       "      <td>28.973189</td>\n",
       "      <td>12.728926</td>\n",
       "      <td>6.647958</td>\n",
       "      <td>8.348928</td>\n",
       "      <td>9</td>\n",
       "      <td>56.699000</td>\n",
       "      <td>0.117250</td>\n",
       "      <td>0.147250</td>\n",
       "      <td>0.128350</td>\n",
       "      <td>0.195685</td>\n",
       "      <td>1.297872</td>\n",
       "      <td>8.528785</td>\n",
       "      <td>6.791171</td>\n",
       "      <td>4.454343</td>\n",
       "      <td>5.608750</td>\n",
       "      <td>0.671953</td>\n",
       "      <td>84.379398</td>\n",
       "      <td>403.192889</td>\n",
       "      <td>2.325625</td>\n",
       "      <td>1.380625</td>\n",
       "      <td>4.055240</td>\n",
       "      <td>2</td>\n",
       "      <td>6.080968</td>\n",
       "      <td>33.175578</td>\n",
       "    </tr>\n",
       "    <tr>\n",
       "      <th>1</th>\n",
       "      <td>1</td>\n",
       "      <td>I</td>\n",
       "      <td>1.1000</td>\n",
       "      <td>0.8250</td>\n",
       "      <td>0.2750</td>\n",
       "      <td>10.418441</td>\n",
       "      <td>4.521745</td>\n",
       "      <td>2.324659</td>\n",
       "      <td>3.401940</td>\n",
       "      <td>8</td>\n",
       "      <td>20.666785</td>\n",
       "      <td>0.112483</td>\n",
       "      <td>0.164609</td>\n",
       "      <td>0.141343</td>\n",
       "      <td>0.187868</td>\n",
       "      <td>1.333333</td>\n",
       "      <td>8.890244</td>\n",
       "      <td>6.075000</td>\n",
       "      <td>4.570533</td>\n",
       "      <td>2.873750</td>\n",
       "      <td>0.249563</td>\n",
       "      <td>82.812063</td>\n",
       "      <td>273.279808</td>\n",
       "      <td>1.210000</td>\n",
       "      <td>0.680625</td>\n",
       "      <td>3.075780</td>\n",
       "      <td>0</td>\n",
       "      <td>2.197086</td>\n",
       "      <td>10.138784</td>\n",
       "    </tr>\n",
       "    <tr>\n",
       "      <th>2</th>\n",
       "      <td>2</td>\n",
       "      <td>M</td>\n",
       "      <td>1.3875</td>\n",
       "      <td>1.1125</td>\n",
       "      <td>0.3750</td>\n",
       "      <td>24.777463</td>\n",
       "      <td>11.339800</td>\n",
       "      <td>5.556502</td>\n",
       "      <td>6.662133</td>\n",
       "      <td>9</td>\n",
       "      <td>48.335898</td>\n",
       "      <td>0.114956</td>\n",
       "      <td>0.137830</td>\n",
       "      <td>0.121134</td>\n",
       "      <td>0.206186</td>\n",
       "      <td>1.247191</td>\n",
       "      <td>8.698980</td>\n",
       "      <td>7.255319</td>\n",
       "      <td>4.262500</td>\n",
       "      <td>4.962188</td>\n",
       "      <td>0.578848</td>\n",
       "      <td>83.503659</td>\n",
       "      <td>343.721938</td>\n",
       "      <td>1.925156</td>\n",
       "      <td>1.237656</td>\n",
       "      <td>3.898652</td>\n",
       "      <td>2</td>\n",
       "      <td>5.783298</td>\n",
       "      <td>27.577449</td>\n",
       "    </tr>\n",
       "    <tr>\n",
       "      <th>3</th>\n",
       "      <td>3</td>\n",
       "      <td>F</td>\n",
       "      <td>1.7000</td>\n",
       "      <td>1.4125</td>\n",
       "      <td>0.5000</td>\n",
       "      <td>50.660556</td>\n",
       "      <td>20.354941</td>\n",
       "      <td>10.991839</td>\n",
       "      <td>14.996885</td>\n",
       "      <td>11</td>\n",
       "      <td>97.004221</td>\n",
       "      <td>0.113313</td>\n",
       "      <td>0.154600</td>\n",
       "      <td>0.133899</td>\n",
       "      <td>0.181739</td>\n",
       "      <td>1.203540</td>\n",
       "      <td>8.825113</td>\n",
       "      <td>6.468291</td>\n",
       "      <td>4.765635</td>\n",
       "      <td>7.915000</td>\n",
       "      <td>1.200625</td>\n",
       "      <td>80.794771</td>\n",
       "      <td>388.016886</td>\n",
       "      <td>2.890000</td>\n",
       "      <td>1.995156</td>\n",
       "      <td>4.585011</td>\n",
       "      <td>3</td>\n",
       "      <td>9.363103</td>\n",
       "      <td>57.936826</td>\n",
       "    </tr>\n",
       "    <tr>\n",
       "      <th>4</th>\n",
       "      <td>4</td>\n",
       "      <td>I</td>\n",
       "      <td>1.2500</td>\n",
       "      <td>1.0125</td>\n",
       "      <td>0.3375</td>\n",
       "      <td>23.289114</td>\n",
       "      <td>11.977664</td>\n",
       "      <td>4.507570</td>\n",
       "      <td>5.953395</td>\n",
       "      <td>8</td>\n",
       "      <td>45.727744</td>\n",
       "      <td>0.098574</td>\n",
       "      <td>0.130192</td>\n",
       "      <td>0.115195</td>\n",
       "      <td>0.231761</td>\n",
       "      <td>1.234568</td>\n",
       "      <td>10.144654</td>\n",
       "      <td>7.680952</td>\n",
       "      <td>3.817751</td>\n",
       "      <td>4.058438</td>\n",
       "      <td>0.427148</td>\n",
       "      <td>107.053519</td>\n",
       "      <td>401.450698</td>\n",
       "      <td>1.562500</td>\n",
       "      <td>1.025156</td>\n",
       "      <td>3.844338</td>\n",
       "      <td>1</td>\n",
       "      <td>7.470093</td>\n",
       "      <td>26.165615</td>\n",
       "    </tr>\n",
       "  </tbody>\n",
       "</table>\n",
       "</div>"
      ],
      "text/plain": [
       "   id Sex  Length  Diameter  Height     Weight  Shucked Weight  \\\n",
       "0   0   I  1.5250    1.1750  0.3750  28.973189       12.728926   \n",
       "1   1   I  1.1000    0.8250  0.2750  10.418441        4.521745   \n",
       "2   2   M  1.3875    1.1125  0.3750  24.777463       11.339800   \n",
       "3   3   F  1.7000    1.4125  0.5000  50.660556       20.354941   \n",
       "4   4   I  1.2500    1.0125  0.3375  23.289114       11.977664   \n",
       "\n",
       "   Viscera Weight  Shell Weight  Age  Total_Weight  Viscera_Ratio  \\\n",
       "0        6.647958      8.348928    9     56.699000       0.117250   \n",
       "1        2.324659      3.401940    8     20.666785       0.112483   \n",
       "2        5.556502      6.662133    9     48.335898       0.114956   \n",
       "3       10.991839     14.996885   11     97.004221       0.113313   \n",
       "4        4.507570      5.953395    8     45.727744       0.098574   \n",
       "\n",
       "   Shell_Ratio  Shell_to_Body_Ratio  Meat_Yield  Length_to_Diameter_Ratio  \\\n",
       "0     0.147250             0.128350    0.195685                  1.297872   \n",
       "1     0.164609             0.141343    0.187868                  1.333333   \n",
       "2     0.137830             0.121134    0.206186                  1.247191   \n",
       "3     0.154600             0.133899    0.181739                  1.203540   \n",
       "4     0.130192             0.115195    0.231761                  1.234568   \n",
       "\n",
       "   Weight_to_VisceraWeight_Ratio  Weight_to_ShellWeight_Ratio  \\\n",
       "0                       8.528785                     6.791171   \n",
       "1                       8.890244                     6.075000   \n",
       "2                       8.698980                     7.255319   \n",
       "3                       8.825113                     6.468291   \n",
       "4                      10.144654                     7.680952   \n",
       "\n",
       "   Weight_to_ShuckedWeight_Ratio  Surface_Area    Volume     Density  \\\n",
       "0                       4.454343      5.608750  0.671953   84.379398   \n",
       "1                       4.570533      2.873750  0.249563   82.812063   \n",
       "2                       4.262500      4.962188  0.578848   83.503659   \n",
       "3                       4.765635      7.915000  1.200625   80.794771   \n",
       "4                       3.817751      4.058438  0.427148  107.053519   \n",
       "\n",
       "   Pseudo_BMI  Length^2  Diameter^2  Log_Weight  Length_Bins  \\\n",
       "0  403.192889  2.325625    1.380625    4.055240            2   \n",
       "1  273.279808  1.210000    0.680625    3.075780            0   \n",
       "2  343.721938  1.925156    1.237656    3.898652            2   \n",
       "3  388.016886  2.890000    1.995156    4.585011            3   \n",
       "4  401.450698  1.562500    1.025156    3.844338            1   \n",
       "\n",
       "   Weight_wo_Viscera  Body_Condition_Index  \n",
       "0           6.080968             33.175578  \n",
       "1           2.197086             10.138784  \n",
       "2           5.783298             27.577449  \n",
       "3           9.363103             57.936826  \n",
       "4           7.470093             26.165615  "
      ]
     },
     "execution_count": 7,
     "metadata": {},
     "output_type": "execute_result"
    }
   ],
   "source": [
    "df_train = transform_dataframe(pd.read_csv(path/'train.csv', low_memory=False))\n",
    "df_test = transform_dataframe(pd.read_csv(path/'test.csv', low_memory=False))\n",
    "\n",
    "\n",
    "df_train.head()"
   ]
  },
  {
   "cell_type": "code",
   "execution_count": 8,
   "id": "affa5a67-7189-4ce5-b2c2-5a9be928b127",
   "metadata": {},
   "outputs": [],
   "source": [
    "splits = RandomSplitter()(range_of(df_train))\n",
    "dep_var = 'Age'\n",
    "cont,cat = cont_cat_split(df_train, 10, dep_var=dep_var)"
   ]
  },
  {
   "cell_type": "code",
   "execution_count": 9,
   "id": "989efe97-246c-4433-aa9b-dc98f8bc96d9",
   "metadata": {},
   "outputs": [
    {
     "data": {
      "text/plain": [
       "(['id',\n",
       "  'Length',\n",
       "  'Diameter',\n",
       "  'Height',\n",
       "  'Weight',\n",
       "  'Shucked Weight',\n",
       "  'Viscera Weight',\n",
       "  'Shell Weight',\n",
       "  'Total_Weight',\n",
       "  'Viscera_Ratio',\n",
       "  'Shell_Ratio',\n",
       "  'Shell_to_Body_Ratio',\n",
       "  'Meat_Yield',\n",
       "  'Length_to_Diameter_Ratio',\n",
       "  'Weight_to_VisceraWeight_Ratio',\n",
       "  'Weight_to_ShellWeight_Ratio',\n",
       "  'Weight_to_ShuckedWeight_Ratio',\n",
       "  'Surface_Area',\n",
       "  'Volume',\n",
       "  'Density',\n",
       "  'Pseudo_BMI',\n",
       "  'Length^2',\n",
       "  'Diameter^2',\n",
       "  'Log_Weight',\n",
       "  'Weight_wo_Viscera',\n",
       "  'Body_Condition_Index'],\n",
       " ['Sex', 'Length_Bins'])"
      ]
     },
     "execution_count": 9,
     "metadata": {},
     "output_type": "execute_result"
    }
   ],
   "source": [
    "(cont,cat)"
   ]
  },
  {
   "cell_type": "markdown",
   "id": "72befb89-619f-4538-ae53-5d45c75dd196",
   "metadata": {
    "tags": []
   },
   "source": [
    "# First dark forest attempt"
   ]
  },
  {
   "cell_type": "code",
   "execution_count": 11,
   "id": "577cba8a-3d08-460e-9708-2b63aad52b8e",
   "metadata": {},
   "outputs": [],
   "source": [
    "dep_var = 'Age'\n",
    "cont,cat = cont_cat_split(df_train, 1, dep_var=dep_var)\n",
    "procs = [Categorify, FillMissing, Normalize]\n",
    "\n",
    "to = TabularPandas(df_train, procs, cat, cont, y_names=dep_var, splits=splits)"
   ]
  },
  {
   "cell_type": "code",
   "execution_count": 12,
   "id": "041e6567-6c53-4c54-90d8-9e2e8d2bc86e",
   "metadata": {},
   "outputs": [],
   "source": [
    "def mae(m, xs, y): return mean_absolute_error(m.predict(xs), y)"
   ]
  },
  {
   "cell_type": "code",
   "execution_count": 13,
   "id": "8d93a18e-9793-44fb-a423-d2a80f085b7b",
   "metadata": {},
   "outputs": [],
   "source": [
    "xs_train = to.train.xs.drop(columns=['id'])\n",
    "y_train = to.train.y\n",
    "\n",
    "xs_val = to.valid.xs.drop(columns=['id'])\n",
    "y_val = to.valid.y"
   ]
  },
  {
   "cell_type": "code",
   "execution_count": 14,
   "id": "eb41fafb-a2f7-4281-8985-c44960825cf7",
   "metadata": {},
   "outputs": [],
   "source": [
    "def rf(xs, y, n_estimators=200, max_samples=74000,\n",
    "       max_features=0.5, min_samples_leaf=4, **kwargs):\n",
    "    return RandomForestClassifier(n_jobs=-1, n_estimators=n_estimators,\n",
    "        max_samples=max_samples, max_features=max_features,\n",
    "        min_samples_leaf=min_samples_leaf, oob_score=True).fit(xs, y)"
   ]
  },
  {
   "cell_type": "code",
   "execution_count": 15,
   "id": "b81cee25-1742-4a19-9cc0-7ff3e0ada0ea",
   "metadata": {},
   "outputs": [
    {
     "name": "stdout",
     "output_type": "stream",
     "text": [
      "0.8442632636181023 1.450236326806212\n"
     ]
    }
   ],
   "source": [
    "rfm = rf(xs_train, y_train, n_estimators=200, max_samples=0.4, max_features=0.7, min_samples_leaf=4)\n",
    "print(mae(rfm, xs_train, y_train), mae(rfm, xs_val, y_val))"
   ]
  },
  {
   "cell_type": "markdown",
   "id": "8a7faac1-2a39-469e-90f0-95d40ad694a4",
   "metadata": {
    "tags": []
   },
   "source": [
    "# Neural network"
   ]
  },
  {
   "cell_type": "code",
   "execution_count": null,
   "id": "a4b431e9-a5f0-4bfa-a7a0-83fcefe15717",
   "metadata": {},
   "outputs": [],
   "source": [
    "procs = [Categorify, FillMissing, Normalize]\n",
    "to = TabularPandas(df_train, procs, cat, cont, y_names='Age', splits=splits)"
   ]
  },
  {
   "cell_type": "code",
   "execution_count": 25,
   "id": "ebce3ba7-1641-4972-93ed-b2b1be4128c9",
   "metadata": {},
   "outputs": [
    {
     "data": {
      "text/html": [
       "\n",
       "<style>\n",
       "    /* Turns off some styling */\n",
       "    progress {\n",
       "        /* gets rid of default border in Firefox and Opera. */\n",
       "        border: none;\n",
       "        /* Needs to be in here for Safari polyfill so background images work as expected. */\n",
       "        background-size: auto;\n",
       "    }\n",
       "    progress:not([value]), progress:not([value])::-webkit-progress-bar {\n",
       "        background: repeating-linear-gradient(45deg, #7e7e7e, #7e7e7e 10px, #5c5c5c 10px, #5c5c5c 20px);\n",
       "    }\n",
       "    .progress-bar-interrupted, .progress-bar-interrupted::-webkit-progress-bar {\n",
       "        background: #F44336;\n",
       "    }\n",
       "</style>\n"
      ],
      "text/plain": [
       "<IPython.core.display.HTML object>"
      ]
     },
     "metadata": {},
     "output_type": "display_data"
    },
    {
     "data": {
      "text/html": [],
      "text/plain": [
       "<IPython.core.display.HTML object>"
      ]
     },
     "metadata": {},
     "output_type": "display_data"
    },
    {
     "data": {
      "text/plain": [
       "SuggestedLRs(valley=0.03981071710586548)"
      ]
     },
     "execution_count": 25,
     "metadata": {},
     "output_type": "execute_result"
    },
    {
     "data": {
      "image/png": "[encoded data removed]",
      "text/plain": [
       "<Figure size 432x288 with 1 Axes>"
      ]
     },
     "metadata": {
      "needs_background": "light"
     },
     "output_type": "display_data"
    }
   ],
   "source": [
    "dls = to.dataloaders(64)\n",
    "\n",
    "learn = tabular_learner(dls, layers=[50,20], metrics=fast_mae)\n",
    "learn.lr_find()"
   ]
  },
  {
   "cell_type": "code",
   "execution_count": 26,
   "id": "a442aeba-970a-42a1-a90a-c3e044d10014",
   "metadata": {},
   "outputs": [
    {
     "data": {
      "text/html": [
       "\n",
       "<style>\n",
       "    /* Turns off some styling */\n",
       "    progress {\n",
       "        /* gets rid of default border in Firefox and Opera. */\n",
       "        border: none;\n",
       "        /* Needs to be in here for Safari polyfill so background images work as expected. */\n",
       "        background-size: auto;\n",
       "    }\n",
       "    progress:not([value]), progress:not([value])::-webkit-progress-bar {\n",
       "        background: repeating-linear-gradient(45deg, #7e7e7e, #7e7e7e 10px, #5c5c5c 10px, #5c5c5c 20px);\n",
       "    }\n",
       "    .progress-bar-interrupted, .progress-bar-interrupted::-webkit-progress-bar {\n",
       "        background: #F44336;\n",
       "    }\n",
       "</style>\n"
      ],
      "text/plain": [
       "<IPython.core.display.HTML object>"
      ]
     },
     "metadata": {},
     "output_type": "display_data"
    },
    {
     "data": {
      "text/html": [
       "<table border=\"1\" class=\"dataframe\">\n",
       "  <thead>\n",
       "    <tr style=\"text-align: left;\">\n",
       "      <th>epoch</th>\n",
       "      <th>train_loss</th>\n",
       "      <th>valid_loss</th>\n",
       "      <th>mae</th>\n",
       "      <th>time</th>\n",
       "    </tr>\n",
       "  </thead>\n",
       "  <tbody>\n",
       "    <tr>\n",
       "      <td>0</td>\n",
       "      <td>5.137862</td>\n",
       "      <td>4.606840</td>\n",
       "      <td>1.470999</td>\n",
       "      <td>00:11</td>\n",
       "    </tr>\n",
       "    <tr>\n",
       "      <td>1</td>\n",
       "      <td>4.883460</td>\n",
       "      <td>4.756532</td>\n",
       "      <td>1.542802</td>\n",
       "      <td>00:13</td>\n",
       "    </tr>\n",
       "    <tr>\n",
       "      <td>2</td>\n",
       "      <td>5.011004</td>\n",
       "      <td>4.636439</td>\n",
       "      <td>1.513071</td>\n",
       "      <td>00:14</td>\n",
       "    </tr>\n",
       "    <tr>\n",
       "      <td>3</td>\n",
       "      <td>4.472093</td>\n",
       "      <td>50.040577</td>\n",
       "      <td>1.461536</td>\n",
       "      <td>00:11</td>\n",
       "    </tr>\n",
       "    <tr>\n",
       "      <td>4</td>\n",
       "      <td>4.972842</td>\n",
       "      <td>16.451332</td>\n",
       "      <td>1.485612</td>\n",
       "      <td>00:10</td>\n",
       "    </tr>\n",
       "    <tr>\n",
       "      <td>5</td>\n",
       "      <td>4.394818</td>\n",
       "      <td>11.741852</td>\n",
       "      <td>1.471224</td>\n",
       "      <td>00:13</td>\n",
       "    </tr>\n",
       "    <tr>\n",
       "      <td>6</td>\n",
       "      <td>4.515590</td>\n",
       "      <td>124212.765625</td>\n",
       "      <td>7.996978</td>\n",
       "      <td>00:14</td>\n",
       "    </tr>\n",
       "    <tr>\n",
       "      <td>7</td>\n",
       "      <td>4.447653</td>\n",
       "      <td>205953.187500</td>\n",
       "      <td>8.439095</td>\n",
       "      <td>00:13</td>\n",
       "    </tr>\n",
       "    <tr>\n",
       "      <td>8</td>\n",
       "      <td>4.534654</td>\n",
       "      <td>3881.554443</td>\n",
       "      <td>2.291540</td>\n",
       "      <td>00:13</td>\n",
       "    </tr>\n",
       "    <tr>\n",
       "      <td>9</td>\n",
       "      <td>4.362034</td>\n",
       "      <td>7904.922852</td>\n",
       "      <td>2.223831</td>\n",
       "      <td>00:14</td>\n",
       "    </tr>\n",
       "  </tbody>\n",
       "</table>"
      ],
      "text/plain": [
       "<IPython.core.display.HTML object>"
      ]
     },
     "metadata": {},
     "output_type": "display_data"
    }
   ],
   "source": [
    "learn.fit_one_cycle(10, 0.1)"
   ]
  },
  {
   "cell_type": "markdown",
   "id": "b96c93eb-56be-4c07-9deb-ac28e91f97e5",
   "metadata": {},
   "source": [
    "# Submit"
   ]
  },
  {
   "cell_type": "code",
   "execution_count": 22,
   "id": "8ff9d9e8-4888-4366-8357-5354bbe81cd8",
   "metadata": {},
   "outputs": [
    {
     "data": {
      "text/html": [
       "\n",
       "<style>\n",
       "    /* Turns off some styling */\n",
       "    progress {\n",
       "        /* gets rid of default border in Firefox and Opera. */\n",
       "        border: none;\n",
       "        /* Needs to be in here for Safari polyfill so background images work as expected. */\n",
       "        background-size: auto;\n",
       "    }\n",
       "    progress:not([value]), progress:not([value])::-webkit-progress-bar {\n",
       "        background: repeating-linear-gradient(45deg, #7e7e7e, #7e7e7e 10px, #5c5c5c 10px, #5c5c5c 20px);\n",
       "    }\n",
       "    .progress-bar-interrupted, .progress-bar-interrupted::-webkit-progress-bar {\n",
       "        background: #F44336;\n",
       "    }\n",
       "</style>\n"
      ],
      "text/plain": [
       "<IPython.core.display.HTML object>"
      ]
     },
     "metadata": {},
     "output_type": "display_data"
    },
    {
     "data": {
      "text/html": [],
      "text/plain": [
       "<IPython.core.display.HTML object>"
      ]
     },
     "metadata": {},
     "output_type": "display_data"
    }
   ],
   "source": [
    "test_dl = learn.dls.test_dl(df_test)\n",
    "preds, _ = learn.get_preds(dl=test_dl)"
   ]
  },
  {
   "cell_type": "code",
   "execution_count": 19,
   "id": "86164ee1-0529-4cd1-8ba8-c40a3086be5c",
   "metadata": {},
   "outputs": [],
   "source": [
    "df_submit = df_test.copy()\n",
    "\n",
    "def subm(preds, suff):\n",
    "    df_submit['Age'] = preds\n",
    "    sub_df = df_submit[['id','Age']]\n",
    "    sub_df.to_csv(f'sub-crab-{suff}.csv', index=False)"
   ]
  },
  {
   "cell_type": "code",
   "execution_count": 20,
   "id": "a5e42cf9-cf41-43ca-8326-fb37617fe94b",
   "metadata": {},
   "outputs": [],
   "source": [
    "subm(preds, 'initial-neural-network')"
   ]
  }
 ],
 "metadata": {
  "kernelspec": {
   "display_name": "Python 3 (ipykernel)",
   "language": "python",
   "name": "python3"
  },
  "language_info": {
   "codemirror_mode": {
    "name": "ipython",
    "version": 3
   },
   "file_extension": ".py",
   "mimetype": "text/x-python",
   "name": "python",
   "nbconvert_exporter": "python",
   "pygments_lexer": "ipython3",
   "version": "3.9.13"
  }
 },
 "nbformat": 4,
 "nbformat_minor": 5
}
