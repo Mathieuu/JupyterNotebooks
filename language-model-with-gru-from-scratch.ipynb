{
 "cells": [
  {
   "cell_type": "markdown",
   "id": "ae92deed-cec3-49ca-aa74-fad61ff5c533",
   "metadata": {},
   "source": [
    "# Language model using a GRU implemented from scratch"
   ]
  },
  {
   "cell_type": "markdown",
   "id": "20eaa324-08f0-42e9-88f3-f49b0ff0caf0",
   "metadata": {
    "tags": []
   },
   "source": [
    "### Setup"
   ]
  },
  {
   "cell_type": "code",
   "execution_count": 1,
   "id": "e5e68614-ffa4-4fc7-925a-45030faf5bd4",
   "metadata": {
    "tags": []
   },
   "outputs": [],
   "source": [
    "#hide\n",
    "! [ -e /content ] && pip install -Uqq fastbook\n",
    "import fastbook\n",
    "fastbook.setup_book()"
   ]
  },
  {
   "cell_type": "code",
   "execution_count": 2,
   "id": "11a46afa-1bb1-4931-9391-998ad61d996b",
   "metadata": {
    "tags": []
   },
   "outputs": [],
   "source": [
    "#hide\n",
    "from fastbook import *\n",
    "import random\n",
    "import numpy as np\n",
    "import torch"
   ]
  },
  {
   "cell_type": "code",
   "execution_count": 3,
   "id": "432da493-3ded-40df-bc01-8dc5a9adb0c4",
   "metadata": {},
   "outputs": [
    {
     "data": {
      "text/plain": [
       "(#2) [Path('valid.txt'),Path('train.txt')]"
      ]
     },
     "execution_count": 3,
     "metadata": {},
     "output_type": "execute_result"
    }
   ],
   "source": [
    "from fastai.text.all import *\n",
    "path = untar_data(URLs.HUMAN_NUMBERS)\n",
    "\n",
    "SEED = 42\n",
    "random.seed(SEED)\n",
    "np.random.seed(SEED)\n",
    "torch.manual_seed(SEED)\n",
    "torch.backends.cudnn.deterministic = True\n",
    "torch.backends.cudnn.benchmark = False\n",
    "\n",
    "#hide\n",
    "Path.BASE_PATH = path\n",
    "path.ls()"
   ]
  },
  {
   "cell_type": "code",
   "execution_count": 4,
   "id": "a5a8df54-c550-4134-9a3c-494a6e34da64",
   "metadata": {},
   "outputs": [
    {
     "data": {
      "text/plain": [
       "(#9998) ['one \\n','two \\n','three \\n','four \\n','five \\n','six \\n','seven \\n','eight \\n','nine \\n','ten \\n'...]"
      ]
     },
     "execution_count": 4,
     "metadata": {},
     "output_type": "execute_result"
    }
   ],
   "source": [
    "lines = L()\n",
    "with open(path/'train.txt') as f: lines += L(*f.readlines())\n",
    "with open(path/'valid.txt') as f: lines += L(*f.readlines())\n",
    "lines"
   ]
  },
  {
   "cell_type": "code",
   "execution_count": 5,
   "id": "4eafd9c8-f3b3-4586-8f3c-cbb5b722718e",
   "metadata": {},
   "outputs": [
    {
     "data": {
      "text/plain": [
       "'one . two . three . four . five . six . seven . eight . nine . ten . eleven . twelve . thirteen . fo'"
      ]
     },
     "execution_count": 5,
     "metadata": {},
     "output_type": "execute_result"
    }
   ],
   "source": [
    "text = ' . '.join([l.strip() for l in lines])\n",
    "text[:100]"
   ]
  },
  {
   "cell_type": "code",
   "execution_count": 6,
   "id": "144bfb6b-bb8f-4212-8a1c-7105f0428394",
   "metadata": {},
   "outputs": [
    {
     "data": {
      "text/plain": [
       "['one', '.', 'two', '.', 'three', '.', 'four', '.', 'five', '.']"
      ]
     },
     "execution_count": 6,
     "metadata": {},
     "output_type": "execute_result"
    }
   ],
   "source": [
    "tokens = text.split(' ')\n",
    "tokens[:10]"
   ]
  },
  {
   "cell_type": "code",
   "execution_count": 7,
   "id": "2a1b9689-43f3-4743-80a5-52709e3f1006",
   "metadata": {},
   "outputs": [
    {
     "data": {
      "text/plain": [
       "(#30) ['one','.','two','three','four','five','six','seven','eight','nine'...]"
      ]
     },
     "execution_count": 7,
     "metadata": {},
     "output_type": "execute_result"
    }
   ],
   "source": [
    "vocab = L(*tokens).unique()\n",
    "vocab"
   ]
  },
  {
   "cell_type": "code",
   "execution_count": 8,
   "id": "51099a26-1aa2-41f1-b23c-51a905dc7670",
   "metadata": {},
   "outputs": [
    {
     "data": {
      "text/plain": [
       "(#63095) [0,1,2,1,3,1,4,1,5,1...]"
      ]
     },
     "execution_count": 8,
     "metadata": {},
     "output_type": "execute_result"
    }
   ],
   "source": [
    "word2idx = {w:i for i,w in enumerate(vocab)}\n",
    "nums = L(word2idx[i] for i in tokens)\n",
    "nums"
   ]
  },
  {
   "cell_type": "markdown",
   "id": "4fce44d0-4e89-45a9-aaf4-5fa0e3ede002",
   "metadata": {},
   "source": [
    "The block below will create a training and validation dataset.\n",
    "Each dataset will have x has a sequence of consecutive words of length 16 and same for y but shifted by one "
   ]
  },
  {
   "cell_type": "code",
   "execution_count": 9,
   "id": "58866ec8-b92f-444f-8aba-5e7cd00cf95a",
   "metadata": {
    "tags": []
   },
   "outputs": [],
   "source": [
    "def group_chunks(ds, bs):\n",
    "    m = len(ds) // bs\n",
    "    new_ds = L()\n",
    "    for i in range(m): new_ds += L(ds[i + m*j] for j in range(bs))\n",
    "    return new_ds\n",
    "\n",
    "sl = 16\n",
    "bs = 64\n",
    "seqs = L((tensor(nums[i:i+sl]), tensor(nums[i+1:i+sl+1]))\n",
    "             for i in range(0,len(nums)-sl-1,sl))\n",
    "cut = int(len(seqs) * 0.8)\n",
    "dls = DataLoaders.from_dsets(\n",
    "    group_chunks(seqs[:cut], bs), \n",
    "    group_chunks(seqs[cut:], bs), \n",
    "    bs=bs, drop_last=True, shuffle=False)"
   ]
  },
  {
   "cell_type": "code",
   "execution_count": 10,
   "id": "1fec8e33-2d3f-4ebd-a3ca-a35b0244dee5",
   "metadata": {},
   "outputs": [],
   "source": [
    "x, y = dls.train.one_batch()"
   ]
  },
  {
   "cell_type": "code",
   "execution_count": 11,
   "id": "d16bab45-fa40-493d-aedd-bfa11cc89d5e",
   "metadata": {},
   "outputs": [
    {
     "data": {
      "text/plain": [
       "(torch.Size([64, 16]), torch.Size([64, 16]))"
      ]
     },
     "execution_count": 11,
     "metadata": {},
     "output_type": "execute_result"
    }
   ],
   "source": [
    "(x.shape, y.shape)"
   ]
  },
  {
   "cell_type": "code",
   "execution_count": 12,
   "id": "24d85a3e-1d99-4396-bf80-00f98863b5d2",
   "metadata": {},
   "outputs": [
    {
     "name": "stdout",
     "output_type": "stream",
     "text": [
      "Example of x: one . two . three . four . five . six . seven . eight .\n",
      "Example of y: . two . three . four . five . six . seven . eight . nine\n"
     ]
    }
   ],
   "source": [
    "print(\"Example of x: \" + \" \".join([vocab[s] for s in x[0]]))\n",
    "print(\"Example of y: \" + \" \".join([vocab[s] for s in y[0]]))"
   ]
  },
  {
   "cell_type": "markdown",
   "id": "e7abab70-9e75-4388-a7c4-88238bf59e91",
   "metadata": {},
   "source": [
    "## Language model with custom GRU"
   ]
  },
  {
   "cell_type": "markdown",
   "id": "a992beaa-c6a3-4f34-9137-862783dcccef",
   "metadata": {},
   "source": [
    "### Single layer GRU"
   ]
  },
  {
   "cell_type": "code",
   "execution_count": 13,
   "id": "e51fdd44-726b-46e5-a481-73ed349f75a9",
   "metadata": {},
   "outputs": [
    {
     "data": {
      "text/html": [
       "\n",
       "<style>\n",
       "    /* Turns off some styling */\n",
       "    progress {\n",
       "        /* gets rid of default border in Firefox and Opera. */\n",
       "        border: none;\n",
       "        /* Needs to be in here for Safari polyfill so background images work as expected. */\n",
       "        background-size: auto;\n",
       "    }\n",
       "    progress:not([value]), progress:not([value])::-webkit-progress-bar {\n",
       "        background: repeating-linear-gradient(45deg, #7e7e7e, #7e7e7e 10px, #5c5c5c 10px, #5c5c5c 20px);\n",
       "    }\n",
       "    .progress-bar-interrupted, .progress-bar-interrupted::-webkit-progress-bar {\n",
       "        background: #F44336;\n",
       "    }\n",
       "</style>\n"
      ],
      "text/plain": [
       "<IPython.core.display.HTML object>"
      ]
     },
     "metadata": {},
     "output_type": "display_data"
    },
    {
     "data": {
      "text/html": [
       "<table border=\"1\" class=\"dataframe\">\n",
       "  <thead>\n",
       "    <tr style=\"text-align: left;\">\n",
       "      <th>epoch</th>\n",
       "      <th>train_loss</th>\n",
       "      <th>valid_loss</th>\n",
       "      <th>accuracy</th>\n",
       "      <th>time</th>\n",
       "    </tr>\n",
       "  </thead>\n",
       "  <tbody>\n",
       "    <tr>\n",
       "      <td>0</td>\n",
       "      <td>2.905448</td>\n",
       "      <td>2.114603</td>\n",
       "      <td>0.328451</td>\n",
       "      <td>00:02</td>\n",
       "    </tr>\n",
       "    <tr>\n",
       "      <td>1</td>\n",
       "      <td>2.064665</td>\n",
       "      <td>1.770513</td>\n",
       "      <td>0.454753</td>\n",
       "      <td>00:03</td>\n",
       "    </tr>\n",
       "    <tr>\n",
       "      <td>2</td>\n",
       "      <td>1.475262</td>\n",
       "      <td>1.232370</td>\n",
       "      <td>0.590495</td>\n",
       "      <td>00:06</td>\n",
       "    </tr>\n",
       "    <tr>\n",
       "      <td>3</td>\n",
       "      <td>0.930198</td>\n",
       "      <td>0.774314</td>\n",
       "      <td>0.755046</td>\n",
       "      <td>00:01</td>\n",
       "    </tr>\n",
       "    <tr>\n",
       "      <td>4</td>\n",
       "      <td>0.558953</td>\n",
       "      <td>0.741250</td>\n",
       "      <td>0.776449</td>\n",
       "      <td>00:02</td>\n",
       "    </tr>\n",
       "    <tr>\n",
       "      <td>5</td>\n",
       "      <td>0.354457</td>\n",
       "      <td>0.665194</td>\n",
       "      <td>0.800944</td>\n",
       "      <td>00:01</td>\n",
       "    </tr>\n",
       "    <tr>\n",
       "      <td>6</td>\n",
       "      <td>0.232769</td>\n",
       "      <td>0.460846</td>\n",
       "      <td>0.872559</td>\n",
       "      <td>00:11</td>\n",
       "    </tr>\n",
       "    <tr>\n",
       "      <td>7</td>\n",
       "      <td>0.167412</td>\n",
       "      <td>0.487501</td>\n",
       "      <td>0.857503</td>\n",
       "      <td>00:01</td>\n",
       "    </tr>\n",
       "    <tr>\n",
       "      <td>8</td>\n",
       "      <td>0.125297</td>\n",
       "      <td>0.409847</td>\n",
       "      <td>0.892497</td>\n",
       "      <td>00:04</td>\n",
       "    </tr>\n",
       "    <tr>\n",
       "      <td>9</td>\n",
       "      <td>0.098681</td>\n",
       "      <td>0.433908</td>\n",
       "      <td>0.880371</td>\n",
       "      <td>00:01</td>\n",
       "    </tr>\n",
       "    <tr>\n",
       "      <td>10</td>\n",
       "      <td>0.080366</td>\n",
       "      <td>0.470570</td>\n",
       "      <td>0.868815</td>\n",
       "      <td>00:01</td>\n",
       "    </tr>\n",
       "    <tr>\n",
       "      <td>11</td>\n",
       "      <td>0.068323</td>\n",
       "      <td>0.357755</td>\n",
       "      <td>0.904297</td>\n",
       "      <td>00:02</td>\n",
       "    </tr>\n",
       "    <tr>\n",
       "      <td>12</td>\n",
       "      <td>0.059419</td>\n",
       "      <td>0.403966</td>\n",
       "      <td>0.886800</td>\n",
       "      <td>00:01</td>\n",
       "    </tr>\n",
       "    <tr>\n",
       "      <td>13</td>\n",
       "      <td>0.052076</td>\n",
       "      <td>0.409177</td>\n",
       "      <td>0.885498</td>\n",
       "      <td>00:01</td>\n",
       "    </tr>\n",
       "    <tr>\n",
       "      <td>14</td>\n",
       "      <td>0.048224</td>\n",
       "      <td>0.405746</td>\n",
       "      <td>0.885579</td>\n",
       "      <td>00:04</td>\n",
       "    </tr>\n",
       "  </tbody>\n",
       "</table>"
      ],
      "text/plain": [
       "<IPython.core.display.HTML object>"
      ]
     },
     "metadata": {},
     "output_type": "display_data"
    }
   ],
   "source": [
    "class GRUCell(Module):\n",
    "    def __init__(self, n_input, n_hidden):\n",
    "        self.reset_gate = nn.Linear(n_input + n_hidden, n_hidden)\n",
    "        self.update_gate = nn.Linear(n_input + n_hidden, n_hidden)\n",
    "        self.candidate_gate = nn.Linear(n_input + n_hidden, n_hidden)\n",
    "        \n",
    "    def forward(self, x, h):\n",
    "        x_h = torch.cat((x, h), dim=1)\n",
    "        reset = torch.sigmoid(self.reset_gate(x_h))\n",
    "        update = torch.sigmoid(self.update_gate(x_h))\n",
    "        x_reset_h = torch.cat((x, h*reset), dim=1)\n",
    "        candidate = torch.tanh(self.candidate_gate(x_reset_h))\n",
    "        return (1 - update)*h + update*candidate\n",
    "\n",
    "class GRU(Module):\n",
    "    def __init__(self, n_input, n_hidden):\n",
    "        self.gru_cell = GRUCell(n_input, n_hidden)\n",
    "\n",
    "    def forward(self, x, h):\n",
    "        outs = []\n",
    "        next_h = h\n",
    "        for i in range(x.shape[1]):\n",
    "            next_h = self.gru_cell(x[:, i, :], next_h)\n",
    "            outs.append(next_h)\n",
    "        return torch.stack(outs, dim=1), next_h\n",
    "        \n",
    "class GRUWrapper(Module):\n",
    "    def __init__(self, vocab_sz, n_hidden ,p):\n",
    "        self.i_h = nn.Embedding(vocab_sz, n_hidden)\n",
    "        self.rnn = GRU(n_hidden, n_hidden)\n",
    "        self.drop = nn.Dropout(p)\n",
    "        self.h_o = nn.Linear(n_hidden, vocab_sz)\n",
    "        self.h_o.weight = self.i_h.weight\n",
    "        self.h = torch.zeros(bs, n_hidden)\n",
    "        \n",
    "    def forward(self, x):\n",
    "        raw_out, next_h = self.rnn(self.i_h(x), self.h)\n",
    "        self.h = next_h.detach()\n",
    "        out = self.drop(raw_out)\n",
    "        return self.h_o(out),raw_out,out\n",
    "    \n",
    "    def reset(self): \n",
    "        self.h = self.h.zero_()\n",
    "        \n",
    "learn = TextLearner(dls, GRUWrapper(len(vocab), 64, 0.4),\n",
    "                    loss_func=CrossEntropyLossFlat(), metrics=accuracy)\n",
    "\n",
    "learn.fit_one_cycle(15, 1e-2, wd=0.1)"
   ]
  },
  {
   "cell_type": "code",
   "execution_count": 14,
   "id": "2e5ffaf7-3b51-4476-ae6d-2c5956491af4",
   "metadata": {},
   "outputs": [],
   "source": [
    "### Multi layer GRU"
   ]
  },
  {
   "cell_type": "code",
   "execution_count": 24,
   "id": "eb714617-9e3e-4ac1-b414-5f5c8ab582b6",
   "metadata": {},
   "outputs": [
    {
     "data": {
      "text/html": [
       "\n",
       "<style>\n",
       "    /* Turns off some styling */\n",
       "    progress {\n",
       "        /* gets rid of default border in Firefox and Opera. */\n",
       "        border: none;\n",
       "        /* Needs to be in here for Safari polyfill so background images work as expected. */\n",
       "        background-size: auto;\n",
       "    }\n",
       "    progress:not([value]), progress:not([value])::-webkit-progress-bar {\n",
       "        background: repeating-linear-gradient(45deg, #7e7e7e, #7e7e7e 10px, #5c5c5c 10px, #5c5c5c 20px);\n",
       "    }\n",
       "    .progress-bar-interrupted, .progress-bar-interrupted::-webkit-progress-bar {\n",
       "        background: #F44336;\n",
       "    }\n",
       "</style>\n"
      ],
      "text/plain": [
       "<IPython.core.display.HTML object>"
      ]
     },
     "metadata": {},
     "output_type": "display_data"
    },
    {
     "data": {
      "text/html": [
       "<table border=\"1\" class=\"dataframe\">\n",
       "  <thead>\n",
       "    <tr style=\"text-align: left;\">\n",
       "      <th>epoch</th>\n",
       "      <th>train_loss</th>\n",
       "      <th>valid_loss</th>\n",
       "      <th>accuracy</th>\n",
       "      <th>time</th>\n",
       "    </tr>\n",
       "  </thead>\n",
       "  <tbody>\n",
       "    <tr>\n",
       "      <td>0</td>\n",
       "      <td>1.810028</td>\n",
       "      <td>1.701420</td>\n",
       "      <td>0.469482</td>\n",
       "      <td>00:18</td>\n",
       "    </tr>\n",
       "    <tr>\n",
       "      <td>1</td>\n",
       "      <td>1.467555</td>\n",
       "      <td>1.806924</td>\n",
       "      <td>0.488688</td>\n",
       "      <td>00:17</td>\n",
       "    </tr>\n",
       "    <tr>\n",
       "      <td>2</td>\n",
       "      <td>1.370051</td>\n",
       "      <td>1.748739</td>\n",
       "      <td>0.497721</td>\n",
       "      <td>00:02</td>\n",
       "    </tr>\n",
       "    <tr>\n",
       "      <td>3</td>\n",
       "      <td>1.431406</td>\n",
       "      <td>1.743019</td>\n",
       "      <td>0.546224</td>\n",
       "      <td>00:05</td>\n",
       "    </tr>\n",
       "    <tr>\n",
       "      <td>4</td>\n",
       "      <td>1.358479</td>\n",
       "      <td>1.631945</td>\n",
       "      <td>0.539225</td>\n",
       "      <td>00:06</td>\n",
       "    </tr>\n",
       "    <tr>\n",
       "      <td>5</td>\n",
       "      <td>1.335646</td>\n",
       "      <td>1.681896</td>\n",
       "      <td>0.540120</td>\n",
       "      <td>00:13</td>\n",
       "    </tr>\n",
       "    <tr>\n",
       "      <td>6</td>\n",
       "      <td>1.233187</td>\n",
       "      <td>1.404806</td>\n",
       "      <td>0.592773</td>\n",
       "      <td>00:05</td>\n",
       "    </tr>\n",
       "    <tr>\n",
       "      <td>7</td>\n",
       "      <td>1.041691</td>\n",
       "      <td>1.371786</td>\n",
       "      <td>0.634440</td>\n",
       "      <td>00:02</td>\n",
       "    </tr>\n",
       "    <tr>\n",
       "      <td>8</td>\n",
       "      <td>0.844506</td>\n",
       "      <td>1.169821</td>\n",
       "      <td>0.719727</td>\n",
       "      <td>00:02</td>\n",
       "    </tr>\n",
       "    <tr>\n",
       "      <td>9</td>\n",
       "      <td>0.612875</td>\n",
       "      <td>0.753473</td>\n",
       "      <td>0.737142</td>\n",
       "      <td>00:08</td>\n",
       "    </tr>\n",
       "    <tr>\n",
       "      <td>10</td>\n",
       "      <td>0.471474</td>\n",
       "      <td>0.810024</td>\n",
       "      <td>0.753825</td>\n",
       "      <td>00:07</td>\n",
       "    </tr>\n",
       "    <tr>\n",
       "      <td>11</td>\n",
       "      <td>0.367700</td>\n",
       "      <td>0.817942</td>\n",
       "      <td>0.808431</td>\n",
       "      <td>00:07</td>\n",
       "    </tr>\n",
       "    <tr>\n",
       "      <td>12</td>\n",
       "      <td>0.284467</td>\n",
       "      <td>0.913821</td>\n",
       "      <td>0.811768</td>\n",
       "      <td>00:02</td>\n",
       "    </tr>\n",
       "    <tr>\n",
       "      <td>13</td>\n",
       "      <td>0.219718</td>\n",
       "      <td>0.958284</td>\n",
       "      <td>0.814941</td>\n",
       "      <td>00:11</td>\n",
       "    </tr>\n",
       "    <tr>\n",
       "      <td>14</td>\n",
       "      <td>0.176314</td>\n",
       "      <td>0.974998</td>\n",
       "      <td>0.816895</td>\n",
       "      <td>00:02</td>\n",
       "    </tr>\n",
       "  </tbody>\n",
       "</table>"
      ],
      "text/plain": [
       "<IPython.core.display.HTML object>"
      ]
     },
     "metadata": {},
     "output_type": "display_data"
    }
   ],
   "source": [
    "class GRUCell(Module):\n",
    "    def __init__(self, n_input, n_hidden):\n",
    "        self.reset_gate = nn.Linear(n_input + n_hidden, n_hidden)\n",
    "        self.update_gate = nn.Linear(n_input + n_hidden, n_hidden)\n",
    "        self.candidate_gate = nn.Linear(n_input + n_hidden, n_hidden)\n",
    "        \n",
    "    def forward(self, x, h):\n",
    "        x_h = torch.cat((x, h), dim=1)\n",
    "        reset = torch.sigmoid(self.reset_gate(x_h))\n",
    "        update = torch.sigmoid(self.update_gate(x_h))\n",
    "        x_reset_h = torch.cat((x, h*reset), dim=1)\n",
    "        candidate = torch.tanh(self.candidate_gate(x_reset_h))\n",
    "        return (1 - update)*h + update*candidate\n",
    "\n",
    "class GRU(Module):\n",
    "    def __init__(self, n_input, n_hidden, n_layers):\n",
    "        self.layers = []\n",
    "        self.layers = [GRUCell(n_input, n_hidden) for _ in range(n_layers)]\n",
    "\n",
    "    def forward(self, x, h):\n",
    "        outs = []\n",
    "        current_h = h\n",
    "        for i in range(x.shape[1]):\n",
    "            next_h = []\n",
    "            next_input = x[:, i, :]\n",
    "            for j, layer in enumerate(self.layers):\n",
    "                next_input = layer(next_input, current_h[j])\n",
    "                next_h.append(next_input)\n",
    "            current_h = next_h\n",
    "            outs.append(next_input)\n",
    "        return torch.stack(outs, dim=1), torch.stack(current_h)\n",
    "        \n",
    "class GRUWrapper(Module):\n",
    "    def __init__(self, vocab_sz, n_hidden, n_layers, p):\n",
    "        self.i_h = nn.Embedding(vocab_sz, n_hidden)\n",
    "        self.rnn = GRU(n_hidden, n_hidden, n_layers)\n",
    "        self.drop = nn.Dropout(p)\n",
    "        self.h_o = nn.Linear(n_hidden, vocab_sz)\n",
    "        self.h = torch.zeros(n_layers, bs, n_hidden)\n",
    "        \n",
    "    def forward(self, x):\n",
    "        raw_out, h = self.rnn(self.i_h(x), self.h)\n",
    "        self.h = h.detach()\n",
    "        out = self.drop(raw_out)\n",
    "        return self.h_o(out),raw_out,out\n",
    "    \n",
    "    def reset(self): \n",
    "        self.h = self.h.zero_()\n",
    "        \n",
    "learn = TextLearner(dls, GRUWrapper(len(vocab), 64, 2, 0.5),\n",
    "                    loss_func=CrossEntropyLossFlat(), metrics=accuracy)\n",
    "\n",
    "learn.fit_one_cycle(15, 1e-1, wd=0.1)"
   ]
  }
 ],
 "metadata": {
  "kernelspec": {
   "display_name": "Python 3 (ipykernel)",
   "language": "python",
   "name": "python3"
  },
  "language_info": {
   "codemirror_mode": {
    "name": "ipython",
    "version": 3
   },
   "file_extension": ".py",
   "mimetype": "text/x-python",
   "name": "python",
   "nbconvert_exporter": "python",
   "pygments_lexer": "ipython3",
   "version": "3.9.13"
  }
 },
 "nbformat": 4,
 "nbformat_minor": 5
}
